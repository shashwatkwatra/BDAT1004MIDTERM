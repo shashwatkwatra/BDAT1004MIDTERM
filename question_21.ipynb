{
  "nbformat": 4,
  "nbformat_minor": 0,
  "metadata": {
    "colab": {
      "provenance": []
    },
    "kernelspec": {
      "name": "python3",
      "display_name": "Python 3"
    },
    "language_info": {
      "name": "python"
    }
  },
  "cells": [
    {
      "cell_type": "code",
      "execution_count": 1,
      "metadata": {
        "id": "ZXEQ1Hr9BzPR"
      },
      "outputs": [],
      "source": [
        "import math\n",
        "class Point:\n",
        "    def __init__(self, x=0, y=0):\n",
        "        self.x = x\n",
        "        self.y = y\n",
        "class Segment:\n",
        "    def __init__(self, p1, p2):\n",
        "        self.p1 = p1\n",
        "        self.p2 = p2\n",
        "    def length(self):\n",
        "        dx = self.p2.x - self.p1.x\n",
        "        dy = self.p2.y - self.p1.y\n",
        "        return math.sqrt(dx**2 + dy**2)\n",
        "    def slope(self):\n",
        "        dx = self.p2.x - self.p1.x\n",
        "        dy = self.p2.y - self.p1.y\n",
        "\n",
        "        if dx == 0:\n",
        "            return None\n",
        "        return dy / dx\n",
        "\n",
        "p1 = Point(4, 3)\n",
        "p2 = Point()\n",
        "s = Segment(p1, p2)"
      ]
    },
    {
      "cell_type": "code",
      "source": [
        "print(s.length())\n",
        "print(s.slope())"
      ],
      "metadata": {
        "colab": {
          "base_uri": "https://localhost:8080/"
        },
        "id": "rYmqeJ_OB42p",
        "outputId": "99c6a163-7f1b-41f9-fa80-f0a43115bf3f"
      },
      "execution_count": 2,
      "outputs": [
        {
          "output_type": "stream",
          "name": "stdout",
          "text": [
            "5.0\n",
            "0.75\n"
          ]
        }
      ]
    }
  ]
}
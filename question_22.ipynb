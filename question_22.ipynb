{
  "nbformat": 4,
  "nbformat_minor": 0,
  "metadata": {
    "colab": {
      "provenance": []
    },
    "kernelspec": {
      "name": "python3",
      "display_name": "Python 3"
    },
    "language_info": {
      "name": "python"
    }
  },
  "cells": [
    {
      "cell_type": "code",
      "execution_count": 1,
      "metadata": {
        "id": "n1N2dwOfCqnZ"
      },
      "outputs": [],
      "source": [
        "import sqlite3\n",
        "conn = sqlite3.connect('mid_term.db')\n",
        "\n",
        "cursor = conn.cursor()\n",
        "\n",
        "create_table_query = '''\n",
        "CREATE TABLE WEATHER_Table (\n",
        "    id INT PRIMARY KEY,\n",
        "    recordDate DATE,\n",
        "    temperature INT\n",
        ");\n",
        "'''\n",
        "\n",
        "insert_queries = [\n",
        "    \"INSERT INTO Weather_Table VALUES (1, '2015-01-01', 10);\",\n",
        "    \"INSERT INTO Weather_Table VALUES (2, '2015-01-02', 25);\",\n",
        "    \"INSERT INTO Weather_Table VALUES (3, '2015-01-03', 20);\",\n",
        "    \"INSERT INTO Weather_Table VALUES (4, '2015-01-04', 30);\"\n",
        "]\n",
        "\n",
        "\n",
        "\n",
        "# Execute the SQL queries\n",
        "cursor.executescript(create_table_query)\n",
        "for insert_query in insert_queries:\n",
        "    cursor.execute(insert_query)\n",
        ""
      ]
    },
    {
      "cell_type": "code",
      "source": [
        "def printIDs():\n",
        "    select_query = '''SELECT t1.id FROM Weather_Table t1 JOIN Weather_Table t2 ON t1.id = t2.id + 1 WHERE t1.temperature > t2.temperature;'''\n",
        "    cursor.execute(select_query)\n",
        "    results = cursor.fetchall()\n",
        "    for row in results:\n",
        "        print(row)\n",
        "printIDs()\n",
        "conn.commit()\n",
        "conn.close()"
      ],
      "metadata": {
        "id": "vQElrze0C0hW",
        "outputId": "4a4066bb-1186-43c8-d623-c06e30f213c0",
        "colab": {
          "base_uri": "https://localhost:8080/"
        }
      },
      "execution_count": 2,
      "outputs": [
        {
          "output_type": "stream",
          "name": "stdout",
          "text": [
            "(2,)\n",
            "(4,)\n"
          ]
        }
      ]
    }
  ]
}
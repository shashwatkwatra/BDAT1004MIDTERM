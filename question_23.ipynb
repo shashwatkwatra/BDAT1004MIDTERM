{
  "nbformat": 4,
  "nbformat_minor": 0,
  "metadata": {
    "colab": {
      "provenance": []
    },
    "kernelspec": {
      "name": "python3",
      "display_name": "Python 3"
    },
    "language_info": {
      "name": "python"
    }
  },
  "cells": [
    {
      "cell_type": "code",
      "execution_count": 2,
      "metadata": {
        "colab": {
          "base_uri": "https://localhost:8080/"
        },
        "id": "z1xYQ-XNCNN5",
        "outputId": "0a2f9266-907b-4ec3-b896-72a22697c70b"
      },
      "outputs": [
        {
          "output_type": "stream",
          "name": "stdout",
          "text": [
            "*\n",
            "**\n",
            "***\n",
            " *\n",
            "****\n",
            "  *\n",
            "  **\n"
          ]
        }
      ],
      "source": [
        "def tough(indentation, stars):\n",
        "    if stars == 0:\n",
        "        return\n",
        "    else:\n",
        "        tough(indentation, stars - 1)\n",
        "        print(' ' * indentation + '*' * stars)\n",
        "        if stars > 1:\n",
        "            tough(indentation + stars - 2, stars - 2)\n",
        "\n",
        "tough(0,4)"
      ]
    }
  ]
}